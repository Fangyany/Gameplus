{
 "cells": [
  {
   "cell_type": "code",
   "execution_count": 1,
   "metadata": {},
   "outputs": [
    {
     "name": "stderr",
     "output_type": "stream",
     "text": [
      "WARNING:bokeh.server.util:Host wildcard '*' will allow connections originating from multiple (or possibly all) hostnames or IPs. Use non-wildcard values to restrict access explicitly\n",
      "This event loop is already running\n"
     ]
    },
    {
     "name": "stdout",
     "output_type": "stream",
     "text": [
      "Extracting scenarios...\n"
     ]
    },
    {
     "name": "stderr",
     "output_type": "stream",
     "text": [
      "WARNING:tornado.access:404 GET /favicon.ico (127.0.0.1) 0.97ms\n",
      "Rendering a scenario: 100%|██████████| 1/1 [00:00<00:00, 54.37it/s]\n",
      "Rendering a scenario: 100%|██████████| 1/1 [00:00<00:00, 63.55it/s]\n",
      "Rendering a scenario: 100%|██████████| 1/1 [00:00<00:00, 40.18it/s]\n",
      "Rendering a scenario: 100%|██████████| 1/1 [00:00<00:00, 134.28it/s]\n",
      "Rendering a scenario: 100%|██████████| 1/1 [00:00<00:00, 11.52it/s]\n",
      "Rendering a scenario: 100%|██████████| 1/1 [00:00<00:00, 11.08it/s]\n",
      "Rendering a scenario: 100%|██████████| 1/1 [00:00<00:00, 14.52it/s]\n",
      "Rendering a scenario: 100%|██████████| 1/1 [00:00<00:00, 126.37it/s]\n",
      "Rendering a scenario: 100%|██████████| 1/1 [00:00<00:00, 33.87it/s]\n"
     ]
    }
   ],
   "source": [
    "import warnings\n",
    "warnings.filterwarnings(\"ignore\") \n",
    "from common_utils import *\n",
    "from nuplan.planning.scenario_builder.nuplan_db.nuplan_scenario_builder import NuPlanScenarioBuilder\n",
    "from nuplan.planning.scenario_builder.nuplan_db.nuplan_scenario_utils import ScenarioMapping\n",
    "from nuplan.planning.nuboard.nuboard import NuBoard\n",
    "\n",
    "def build_nuboard(scenario_builder, simulation_path):\n",
    "    nuboard = NuBoard(\n",
    "        nuboard_paths=simulation_path,\n",
    "        scenario_builder=scenario_builder,\n",
    "        vehicle_parameters=get_pacifica_parameters(),\n",
    "        port_number=5013\n",
    "    )\n",
    "    nuboard.run()\n",
    "\n",
    "# build scenarios\n",
    "print('Extracting scenarios...')\n",
    "data_root = '/data/fyy/GameFormer-Planner/nuplan/dataset/nuplan-v1.1/splits/test'\n",
    "map_root = '/data/fyy/GameFormer-Planner/nuplan/dataset/maps'\n",
    "\n",
    "scenario_mapping = ScenarioMapping(scenario_map=get_scenario_map(), subsample_ratio_override=0.5)\n",
    "builder = NuPlanScenarioBuilder(data_root, map_root, sensor_root=None, db_files=None, map_version=\"nuplan-maps-v1.0\", scenario_mapping=scenario_mapping)\n",
    "\n",
    "\n",
    "s_path = 'testing_log/open_loop_boxes/gameformer_planner/2024-04-07 18:25:31.130477/nuboard_1712485531.nuboard'\n",
    "# s_path = 'testing_log/closed_loop_reactive_agents/gameformer_planner/2024-04-07 18:31:33.042269/nuboard_1712485893.nuboard'\n",
    "# s_path = 'testing_log/closed_loop_nonreactive_agents/gameformer_planner/2024-04-07 18:19:57.392490/nuboard_1712485197.nuboard'\n",
    "\n",
    "simulation_file = [s_path]    # show metrics and scenarios\n",
    "build_nuboard(builder, simulation_file) \n"
   ]
  },
  {
   "cell_type": "code",
   "execution_count": 2,
   "metadata": {},
   "outputs": [
    {
     "name": "stderr",
     "output_type": "stream",
     "text": [
      "WARNING:bokeh.server.util:Host wildcard '*' will allow connections originating from multiple (or possibly all) hostnames or IPs. Use non-wildcard values to restrict access explicitly\n",
      "This event loop is already running\n"
     ]
    },
    {
     "name": "stdout",
     "output_type": "stream",
     "text": [
      "Extracting scenarios...\n"
     ]
    },
    {
     "name": "stderr",
     "output_type": "stream",
     "text": [
      "WARNING:tornado.access:404 GET /favicon.ico (127.0.0.1) 0.87ms\n"
     ]
    }
   ],
   "source": [
    "import warnings\n",
    "warnings.filterwarnings(\"ignore\") \n",
    "from common_utils import *\n",
    "from nuplan.planning.scenario_builder.nuplan_db.nuplan_scenario_builder import NuPlanScenarioBuilder\n",
    "from nuplan.planning.scenario_builder.nuplan_db.nuplan_scenario_utils import ScenarioMapping\n",
    "from nuplan.planning.nuboard.nuboard import NuBoard\n",
    "\n",
    "def build_nuboard(scenario_builder, simulation_path):\n",
    "    nuboard = NuBoard(\n",
    "        nuboard_paths=simulation_path,\n",
    "        scenario_builder=scenario_builder,\n",
    "        vehicle_parameters=get_pacifica_parameters(),\n",
    "        port_number=5014\n",
    "    )\n",
    "    nuboard.run()\n",
    "\n",
    "# build scenarios\n",
    "print('Extracting scenarios...')\n",
    "data_root = '/data/fyy/GameFormer-Planner/nuplan/dataset/nuplan-v1.1/splits/test'\n",
    "map_root = '/data/fyy/GameFormer-Planner/nuplan/dataset/maps'\n",
    "\n",
    "scenario_mapping = ScenarioMapping(scenario_map=get_scenario_map(), subsample_ratio_override=0.5)\n",
    "builder = NuPlanScenarioBuilder(data_root, map_root, sensor_root=None, db_files=None, map_version=\"nuplan-maps-v1.0\", scenario_mapping=scenario_mapping)\n",
    "\n",
    "\n",
    "# s_path = 'testing_log/open_loop_boxes/gameformer_planner/2024-04-07 18:25:31.130477/nuboard_1712485531.nuboard'\n",
    "s_path = 'testing_log/closed_loop_reactive_agents/gameformer_planner/2024-04-07 18:31:33.042269/nuboard_1712485893.nuboard'\n",
    "# s_path = 'testing_log/closed_loop_nonreactive_agents/gameformer_planner/2024-04-07 18:19:57.392490/nuboard_1712485197.nuboard'\n",
    "\n",
    "simulation_file = [s_path]    # show metrics and scenarios\n",
    "build_nuboard(builder, simulation_file) \n"
   ]
  },
  {
   "cell_type": "code",
   "execution_count": 3,
   "metadata": {},
   "outputs": [
    {
     "name": "stderr",
     "output_type": "stream",
     "text": [
      "WARNING:bokeh.server.util:Host wildcard '*' will allow connections originating from multiple (or possibly all) hostnames or IPs. Use non-wildcard values to restrict access explicitly\n",
      "This event loop is already running\n"
     ]
    },
    {
     "name": "stdout",
     "output_type": "stream",
     "text": [
      "Extracting scenarios...\n"
     ]
    },
    {
     "name": "stderr",
     "output_type": "stream",
     "text": [
      "WARNING:tornado.access:404 GET /favicon.ico (127.0.0.1) 0.87ms\n"
     ]
    }
   ],
   "source": [
    "import warnings\n",
    "warnings.filterwarnings(\"ignore\") \n",
    "from common_utils import *\n",
    "from nuplan.planning.scenario_builder.nuplan_db.nuplan_scenario_builder import NuPlanScenarioBuilder\n",
    "from nuplan.planning.scenario_builder.nuplan_db.nuplan_scenario_utils import ScenarioMapping\n",
    "from nuplan.planning.nuboard.nuboard import NuBoard\n",
    "\n",
    "def build_nuboard(scenario_builder, simulation_path):\n",
    "    nuboard = NuBoard(\n",
    "        nuboard_paths=simulation_path,\n",
    "        scenario_builder=scenario_builder,\n",
    "        vehicle_parameters=get_pacifica_parameters(),\n",
    "        port_number=5015\n",
    "    )\n",
    "    nuboard.run()\n",
    "\n",
    "# build scenarios\n",
    "print('Extracting scenarios...')\n",
    "data_root = '/data/fyy/GameFormer-Planner/nuplan/dataset/nuplan-v1.1/splits/test'\n",
    "map_root = '/data/fyy/GameFormer-Planner/nuplan/dataset/maps'\n",
    "\n",
    "scenario_mapping = ScenarioMapping(scenario_map=get_scenario_map(), subsample_ratio_override=0.5)\n",
    "builder = NuPlanScenarioBuilder(data_root, map_root, sensor_root=None, db_files=None, map_version=\"nuplan-maps-v1.0\", scenario_mapping=scenario_mapping)\n",
    "\n",
    "\n",
    "# s_path = 'testing_log/open_loop_boxes/gameformer_planner/2024-04-07 18:25:31.130477/nuboard_1712485531.nuboard'\n",
    "# s_path = 'testing_log/closed_loop_reactive_agents/gameformer_planner/2024-04-07 18:31:33.042269/nuboard_1712485893.nuboard'\n",
    "s_path = 'testing_log/closed_loop_nonreactive_agents/gameformer_planner/2024-04-07 18:19:57.392490/nuboard_1712485197.nuboard'\n",
    "\n",
    "simulation_file = [s_path]    # show metrics and scenarios\n",
    "build_nuboard(builder, simulation_file) \n"
   ]
  },
  {
   "cell_type": "code",
   "execution_count": 5,
   "metadata": {},
   "outputs": [
    {
     "name": "stdout",
     "output_type": "stream",
     "text": [
      "CUDA is available: True\n",
      "All devices: [PhysicalDevice(name='/physical_device:CPU:0', device_type='CPU'), PhysicalDevice(name='/physical_device:GPU:0', device_type='GPU'), PhysicalDevice(name='/physical_device:GPU:1', device_type='GPU'), PhysicalDevice(name='/physical_device:GPU:2', device_type='GPU'), PhysicalDevice(name='/physical_device:GPU:3', device_type='GPU')]\n"
     ]
    }
   ],
   "source": [
    "import tensorflow as tf\n",
    "\n",
    "print(\"CUDA is available:\", tf.test.is_built_with_cuda())\n",
    "print(\"All devices:\", tf.config.list_physical_devices())\n"
   ]
  },
  {
   "cell_type": "code",
   "execution_count": 6,
   "metadata": {},
   "outputs": [
    {
     "data": {
      "text/plain": [
       "['/data/fyy/GameFormer-Planner/testing_log/open_loop_boxes/gameformer_planner/2024-02-23 18:11:31.740810/nuboard_1708683091.nuboard']"
      ]
     },
     "execution_count": 6,
     "metadata": {},
     "output_type": "execute_result"
    }
   ],
   "source": [
    "import pathlib\n",
    "output_dir = '/data/fyy/GameFormer-Planner/testing_log/open_loop_boxes/gameformer_planner/2024-02-23 18:11:31.740810'\n",
    "simulation_file = [str(file) for file in pathlib.Path(output_dir).iterdir() if file.is_file() and file.suffix == '.nuboard']\n",
    "simulation_file"
   ]
  }
 ],
 "metadata": {
  "kernelspec": {
   "display_name": "nuplan",
   "language": "python",
   "name": "python3"
  },
  "language_info": {
   "codemirror_mode": {
    "name": "ipython",
    "version": 3
   },
   "file_extension": ".py",
   "mimetype": "text/x-python",
   "name": "python",
   "nbconvert_exporter": "python",
   "pygments_lexer": "ipython3",
   "version": "3.9.18"
  }
 },
 "nbformat": 4,
 "nbformat_minor": 2
}
